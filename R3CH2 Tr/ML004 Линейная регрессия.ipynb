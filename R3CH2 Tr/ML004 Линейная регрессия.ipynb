{
 "cells": [
  {
   "cell_type": "markdown",
   "metadata": {},
   "source": [
    "### Постановка задачи\n",
    "Построить модель линейной регрессии энергопотребления здания, используя температуру воздуха (air_temperature) и влажность (dew_temperature).\n",
    "\n",
    "Рассчитать качество построенной модели по проверочным данным.\n",
    "\n",
    "Данные:\n",
    "* http://video.ittensive.com/machine-learning/ashrae/building_metadata.csv.gz\n",
    "* http://video.ittensive.com/machine-learning/ashrae/weather_train.csv.gz\n",
    "* http://video.ittensive.com/machine-learning/ashrae/train.0.0.csv.gz\n",
    "Соревнование: https://www.kaggle.com/c/ashrae-energy-prediction/\n",
    "\n",
    "© ITtensive, 2020"
   ]
  },
  {
   "cell_type": "markdown",
   "metadata": {},
   "source": [
    "### Подключение библиотек"
   ]
  },
  {
   "cell_type": "code",
   "execution_count": 1,
   "metadata": {},
   "outputs": [],
   "source": [
    "%matplotlib inline\n",
    "import numpy as np\n",
    "import pandas as pd\n",
    "from sklearn.model_selection import train_test_split\n",
    "from sklearn.linear_model import LinearRegression"
   ]
  },
  {
   "cell_type": "markdown",
   "metadata": {},
   "source": [
    "### Загрузка данных"
   ]
  },
  {
   "cell_type": "code",
   "execution_count": 2,
   "metadata": {},
   "outputs": [
    {
     "name": "stdout",
     "output_type": "stream",
     "text": [
      "<class 'pandas.core.frame.DataFrame'>\n",
      "RangeIndex: 8784 entries, 0 to 8783\n",
      "Data columns (total 4 columns):\n",
      " #   Column         Non-Null Count  Dtype  \n",
      "---  ------         --------------  -----  \n",
      " 0   building_id    8784 non-null   int64  \n",
      " 1   meter          8784 non-null   int64  \n",
      " 2   timestamp      8784 non-null   object \n",
      " 3   meter_reading  8784 non-null   float64\n",
      "dtypes: float64(1), int64(2), object(1)\n",
      "memory usage: 274.6+ KB\n",
      "None\n"
     ]
    }
   ],
   "source": [
    "buildings = pd.read_csv(\"http://video.ittensive.com/machine-learning/ashrae/building_metadata.csv.gz\")\n",
    "weather = pd.read_csv(\"http://video.ittensive.com/machine-learning/ashrae/weather_train.csv.gz\")\n",
    "energy_0 = pd.read_csv(\"http://video.ittensive.com/machine-learning/ashrae/train.0.0.csv.gz\")\n",
    "print (energy_0.info())"
   ]
  },
  {
   "cell_type": "markdown",
   "metadata": {},
   "source": [
    "### Объединение данных и фильтрация"
   ]
  },
  {
   "cell_type": "code",
   "execution_count": 3,
   "metadata": {},
   "outputs": [
    {
     "name": "stdout",
     "output_type": "stream",
     "text": [
      "               timestamp  site_id  building_id  meter  meter_reading  \\\n",
      "704  2016-01-30 08:00:00        0            0      0        43.6839   \n",
      "725  2016-01-31 05:00:00        0            0      0        37.5408   \n",
      "737  2016-01-31 17:00:00        0            0      0        52.5571   \n",
      "2366 2016-04-08 14:00:00        0            0      0        59.3827   \n",
      "2923 2016-05-01 19:00:00        0            0      0       448.0000   \n",
      "\n",
      "     primary_use  square_feet  year_built  floor_count  air_temperature  \\\n",
      "704    Education         7432      2008.0          NaN              8.3   \n",
      "725    Education         7432      2008.0          NaN             12.8   \n",
      "737    Education         7432      2008.0          NaN             20.6   \n",
      "2366   Education         7432      2008.0          NaN             21.7   \n",
      "2923   Education         7432      2008.0          NaN             31.1   \n",
      "\n",
      "      cloud_coverage  dew_temperature  precip_depth_1_hr  sea_level_pressure  \\\n",
      "704              NaN              6.1                0.0              1019.0   \n",
      "725              NaN             10.0                0.0              1021.9   \n",
      "737              NaN             11.7                0.0              1020.9   \n",
      "2366             2.0             14.4                0.0              1015.1   \n",
      "2923             NaN             17.2                0.0              1016.1   \n",
      "\n",
      "      wind_direction  wind_speed  hour  \n",
      "704            220.0         2.1     8  \n",
      "725              0.0         0.0     5  \n",
      "737            110.0         1.5    17  \n",
      "2366           250.0         3.1    14  \n",
      "2923           100.0         4.1    19  \n"
     ]
    }
   ],
   "source": [
    "energy_0 = pd.merge(left=energy_0, right=buildings, how=\"left\",\n",
    "                   left_on=\"building_id\", right_on=\"building_id\")\n",
    "energy_0.set_index([\"timestamp\", \"site_id\"], inplace=True)\n",
    "weather.set_index([\"timestamp\", \"site_id\"], inplace=True)\n",
    "energy_0 = pd.merge(left=energy_0, right=weather, how=\"left\",\n",
    "                   left_index=True, right_index=True)\n",
    "energy_0.reset_index(inplace=True)\n",
    "energy_0 = energy_0[energy_0[\"meter_reading\"] > 0]\n",
    "energy_0[\"timestamp\"] = pd.to_datetime(energy_0[\"timestamp\"])\n",
    "energy_0[\"hour\"] = energy_0[\"timestamp\"].dt.hour\n",
    "print (energy_0.head())"
   ]
  },
  {
   "cell_type": "markdown",
   "metadata": {},
   "source": [
    "### Добавление часа в данные"
   ]
  },
  {
   "cell_type": "code",
   "execution_count": 4,
   "metadata": {},
   "outputs": [
    {
     "name": "stdout",
     "output_type": "stream",
     "text": [
      "               timestamp  site_id  building_id  meter  meter_reading  \\\n",
      "704  2016-01-30 08:00:00        0            0      0        43.6839   \n",
      "725  2016-01-31 05:00:00        0            0      0        37.5408   \n",
      "737  2016-01-31 17:00:00        0            0      0        52.5571   \n",
      "2366 2016-04-08 14:00:00        0            0      0        59.3827   \n",
      "2923 2016-05-01 19:00:00        0            0      0       448.0000   \n",
      "\n",
      "     primary_use  square_feet  year_built  floor_count  air_temperature  \\\n",
      "704    Education         7432      2008.0          NaN              8.3   \n",
      "725    Education         7432      2008.0          NaN             12.8   \n",
      "737    Education         7432      2008.0          NaN             20.6   \n",
      "2366   Education         7432      2008.0          NaN             21.7   \n",
      "2923   Education         7432      2008.0          NaN             31.1   \n",
      "\n",
      "      cloud_coverage  dew_temperature  precip_depth_1_hr  sea_level_pressure  \\\n",
      "704              NaN              6.1                0.0              1019.0   \n",
      "725              NaN             10.0                0.0              1021.9   \n",
      "737              NaN             11.7                0.0              1020.9   \n",
      "2366             2.0             14.4                0.0              1015.1   \n",
      "2923             NaN             17.2                0.0              1016.1   \n",
      "\n",
      "      wind_direction  wind_speed  hour  \n",
      "704            220.0         2.1     8  \n",
      "725              0.0         0.0     5  \n",
      "737            110.0         1.5    17  \n",
      "2366           250.0         3.1    14  \n",
      "2923           100.0         4.1    19  \n"
     ]
    }
   ],
   "source": [
    "energy_0[\"timestamp\"] = pd.to_datetime(energy_0[\"timestamp\"])\n",
    "energy_0[\"hour\"] = energy_0[\"timestamp\"].dt.hour\n",
    "print (energy_0.head())"
   ]
  },
  {
   "cell_type": "markdown",
   "metadata": {},
   "source": [
    "### Разделение данных на обучение и проверку"
   ]
  },
  {
   "cell_type": "code",
   "execution_count": 5,
   "metadata": {},
   "outputs": [
    {
     "name": "stdout",
     "output_type": "stream",
     "text": [
      "               timestamp  site_id  building_id  meter  meter_reading  \\\n",
      "8735 2016-12-29 23:00:00        0            0      0       235.4830   \n",
      "3626 2016-05-31 02:00:00        0            0      0       176.7830   \n",
      "8053 2016-12-01 13:00:00        0            0      0       184.9740   \n",
      "8303 2016-12-11 23:00:00        0            0      0        74.3991   \n",
      "5087 2016-07-30 23:00:00        0            0      0       315.3430   \n",
      "\n",
      "     primary_use  square_feet  year_built  floor_count  air_temperature  \\\n",
      "8735   Education         7432      2008.0          NaN             23.9   \n",
      "3626   Education         7432      2008.0          NaN             25.6   \n",
      "8053   Education         7432      2008.0          NaN             20.0   \n",
      "8303   Education         7432      2008.0          NaN             21.1   \n",
      "5087   Education         7432      2008.0          NaN             28.3   \n",
      "\n",
      "      cloud_coverage  dew_temperature  precip_depth_1_hr  sea_level_pressure  \\\n",
      "8735             NaN             16.7                0.0              1015.9   \n",
      "3626             NaN             20.0                0.0              1015.7   \n",
      "8053             NaN             20.0                0.0              1015.2   \n",
      "8303             NaN             18.3               -1.0              1022.4   \n",
      "5087             NaN             22.8                0.0              1016.7   \n",
      "\n",
      "      wind_direction  wind_speed  hour  \n",
      "8735           270.0         3.6    23  \n",
      "3626            40.0         4.6     2  \n",
      "8053           180.0         5.1    13  \n",
      "8303            70.0         2.1    23  \n",
      "5087           350.0         3.1    23  \n"
     ]
    }
   ],
   "source": [
    "energy_0_train, energy_0_test = train_test_split(energy_0, test_size=0.2)\n",
    "print (energy_0_train.head())"
   ]
  },
  {
   "cell_type": "markdown",
   "metadata": {},
   "source": [
    "### Модель линейной регрессии и среднее\n",
    "meter_reading = A * air_temperature + B * dew_temperature + C\n",
    "\n",
    "Дополнительно вычислим среднее по часам, чтобы сравнить линейную регрессию с более простой моделью"
   ]
  },
  {
   "cell_type": "code",
   "execution_count": 6,
   "metadata": {},
   "outputs": [
    {
     "name": "stdout",
     "output_type": "stream",
     "text": [
      "[2.19589562 4.23504299] 100.3023376800333\n"
     ]
    }
   ],
   "source": [
    "energy_0_train_averages = energy_0_train.groupby(\"hour\").mean()[\"meter_reading\"]\n",
    "\n",
    "energy_0_train_lr = pd.DataFrame(energy_0_train,\n",
    "    columns=[\"meter_reading\", \"air_temperature\", \"dew_temperature\"])\n",
    "y = energy_0_train_lr[\"meter_reading\"]\n",
    "x = energy_0_train_lr.drop(labels=[\"meter_reading\"], axis=1)\n",
    "model = LinearRegression().fit(x, y)\n",
    "print (model.coef_, model.intercept_)"
   ]
  },
  {
   "cell_type": "markdown",
   "metadata": {},
   "source": [
    "### Оценка модели"
   ]
  },
  {
   "cell_type": "code",
   "execution_count": 7,
   "metadata": {},
   "outputs": [
    {
     "name": "stdout",
     "output_type": "stream",
     "text": [
      "Качество среднего: 0.2533374153881544\n",
      "Качество линейной регрессии: 0.2176509660136737\n"
     ]
    }
   ],
   "source": [
    "def calculate_model (x):\n",
    "    meter_reading_log = np.log(x.meter_reading + 1)\n",
    "    meter_reading_mean = np.log(energy_0_train_averages[x.hour] + 1)\n",
    "    meter_reading_lr = np.log(1 + x.air_temperature * model.coef_[0] + \n",
    "                                  x.dew_temperature * model.coef_[1] +\n",
    "                                  model.intercept_)\n",
    "    x[\"meter_reading_lr_q\"] = (meter_reading_log - meter_reading_lr)**2\n",
    "    x[\"meter_reading_mean_q\"] = (meter_reading_log - meter_reading_mean)**2\n",
    "    return x\n",
    "\n",
    "energy_0_test = energy_0_test.apply(calculate_model,\n",
    "                                    axis=1, result_type=\"expand\")\n",
    "energy_0_test_lr_rmsle = np.sqrt(energy_0_test[\"meter_reading_lr_q\"].sum() / len(energy_0_test))\n",
    "energy_0_test_mean_rmsle = np.sqrt(energy_0_test[\"meter_reading_mean_q\"].sum() / len(energy_0_test))\n",
    "print (\"Качество среднего:\", energy_0_test_mean_rmsle)\n",
    "print (\"Качество линейной регрессии:\", energy_0_test_lr_rmsle)"
   ]
  }
 ],
 "metadata": {
  "kernelspec": {
   "display_name": "venv",
   "language": "python",
   "name": "venv"
  },
  "language_info": {
   "codemirror_mode": {
    "name": "ipython",
    "version": 3
   },
   "file_extension": ".py",
   "mimetype": "text/x-python",
   "name": "python",
   "nbconvert_exporter": "python",
   "pygments_lexer": "ipython3",
   "version": "3.8.10"
  }
 },
 "nbformat": 4,
 "nbformat_minor": 4
}
