{
 "cells": [
  {
   "cell_type": "markdown",
   "metadata": {
    "tags": []
   },
   "source": [
    "### Постановка задачи\n",
    "Всего 3 набора данных: (1) building_metadata, (2) train и (3) weather_train\n",
    "* (1) содержит building_id, для которого есть данные (2)\n",
    "* (1) содержит site_id, для которого есть данные (3)\n",
    "\n",
    "Нужно объединить все наборы данных по building_id, site_id и timestamp\n",
    "ETL = получение + очистка + совмещение данных\n",
    "\n",
    "Данные:\n",
    "* http://video.ittensive.com/machine-learning/ashrae/building_metadata.csv.gz\n",
    "* http://video.ittensive.com/machine-learning/ashrae/weather_train.csv.gz\n",
    "* http://video.ittensive.com/machine-learning/ashrae/train.0.0.csv.gz\n",
    "Соревнование: https://www.kaggle.com/c/ashrae-energy-prediction/\n",
    "\n",
    "© ITtensive, 2020"
   ]
  },
  {
   "cell_type": "markdown",
   "metadata": {},
   "source": [
    "### Подключение библиотек"
   ]
  },
  {
   "cell_type": "code",
   "execution_count": 1,
   "metadata": {},
   "outputs": [],
   "source": [
    "%matplotlib inline\n",
    "import pandas as pd\n",
    "import matplotlib.pyplot as plt\n",
    "from matplotlib.pyplot import rcParams\n",
    "rcParams['figure.figsize'] = 16, 8"
   ]
  },
  {
   "cell_type": "markdown",
   "metadata": {},
   "source": [
    "### Загрузка данных: здания\n",
    "* primary_use - назначение\n",
    "* square_feet - площадь, кв.футы\n",
    "* year_built - год постройки\n",
    "* floor_count - число этажей"
   ]
  },
  {
   "cell_type": "code",
   "execution_count": 3,
   "metadata": {},
   "outputs": [
    {
     "name": "stdout",
     "output_type": "stream",
     "text": [
      "   site_id  building_id primary_use  square_feet  year_built  floor_count\n",
      "0        0            0   Education         7432      2008.0          NaN\n",
      "1        0            1   Education         2720      2004.0          NaN\n",
      "2        0            2   Education         5376      1991.0          NaN\n",
      "3        0            3   Education        23685      2002.0          NaN\n",
      "4        0            4   Education       116607      1975.0          NaN\n"
     ]
    }
   ],
   "source": [
    "buildings = pd.read_csv(\"http://video.ittensive.com/machine-learning/ashrae/building_metadata.csv.gz\")\n",
    "print (buildings.head())"
   ]
  },
  {
   "cell_type": "markdown",
   "metadata": {},
   "source": [
    "### Загрузка данных: погода\n",
    "* air_temperature - температура воздуха, С\n",
    "* dew_temperature - точка росы (влажность), С\n",
    "* cloud_coverage - облачность, %\n",
    "* precip_depth_1_hr - количество осадков, мм/час\n",
    "* sea_level_pressure - давление, мбар\n",
    "* wind_direction - направление ветра, градусы\n",
    "* wind_speed - скорость ветра, м/с"
   ]
  },
  {
   "cell_type": "code",
   "execution_count": 4,
   "metadata": {},
   "outputs": [
    {
     "name": "stdout",
     "output_type": "stream",
     "text": [
      "   site_id            timestamp  air_temperature  cloud_coverage  \\\n",
      "0        0  2016-01-01 00:00:00             25.0             6.0   \n",
      "1        0  2016-01-01 01:00:00             24.4             NaN   \n",
      "2        0  2016-01-01 02:00:00             22.8             2.0   \n",
      "3        0  2016-01-01 03:00:00             21.1             2.0   \n",
      "4        0  2016-01-01 04:00:00             20.0             2.0   \n",
      "\n",
      "   dew_temperature  precip_depth_1_hr  sea_level_pressure  wind_direction  \\\n",
      "0             20.0                NaN              1019.7             0.0   \n",
      "1             21.1               -1.0              1020.2            70.0   \n",
      "2             21.1                0.0              1020.2             0.0   \n",
      "3             20.6                0.0              1020.1             0.0   \n",
      "4             20.0               -1.0              1020.0           250.0   \n",
      "\n",
      "   wind_speed  \n",
      "0         0.0  \n",
      "1         1.5  \n",
      "2         0.0  \n",
      "3         0.0  \n",
      "4         2.6  \n"
     ]
    }
   ],
   "source": [
    "weather = pd.read_csv(\"http://video.ittensive.com/machine-learning/ashrae/weather_train.csv.gz\")\n",
    "print (weather.head())"
   ]
  },
  {
   "cell_type": "markdown",
   "metadata": {},
   "source": [
    "### Загрузка данных: потребление энергии здания 0\n",
    "* meter_reading - значение показателя (TOE, эквивалент тонн нефти)"
   ]
  },
  {
   "cell_type": "code",
   "execution_count": 5,
   "metadata": {},
   "outputs": [
    {
     "name": "stdout",
     "output_type": "stream",
     "text": [
      "   building_id  meter            timestamp  meter_reading\n",
      "0            0      0  2016-01-01 00:00:00            0.0\n",
      "1            0      0  2016-01-01 01:00:00            0.0\n",
      "2            0      0  2016-01-01 02:00:00            0.0\n",
      "3            0      0  2016-01-01 03:00:00            0.0\n",
      "4            0      0  2016-01-01 04:00:00            0.0\n"
     ]
    },
    {
     "data": {
      "image/png": "[encoded data removed]",
      "text/plain": [
       "<Figure size 1152x576 with 1 Axes>"
      ]
     },
     "metadata": {
      "needs_background": "light"
     },
     "output_type": "display_data"
    }
   ],
   "source": [
    "energy_0 = pd.read_csv(\"http://video.ittensive.com/machine-learning/ashrae/train.0.0.csv.gz\")\n",
    "print (energy_0.head())\n",
    "energy_0.set_index(\"timestamp\")[\"meter_reading\"].plot()\n",
    "plt.show()"
   ]
  },
  {
   "cell_type": "markdown",
   "metadata": {},
   "source": [
    "### Объединение потребления энергии и информацию о здании\n",
    "Проводим объединение по building_id"
   ]
  },
  {
   "cell_type": "code",
   "execution_count": 6,
   "metadata": {},
   "outputs": [
    {
     "name": "stdout",
     "output_type": "stream",
     "text": [
      "   building_id  meter            timestamp  meter_reading  site_id  \\\n",
      "0            0      0  2016-01-01 00:00:00            0.0        0   \n",
      "1            0      0  2016-01-01 01:00:00            0.0        0   \n",
      "2            0      0  2016-01-01 02:00:00            0.0        0   \n",
      "3            0      0  2016-01-01 03:00:00            0.0        0   \n",
      "4            0      0  2016-01-01 04:00:00            0.0        0   \n",
      "\n",
      "  primary_use  square_feet  year_built  floor_count  \n",
      "0   Education         7432      2008.0          NaN  \n",
      "1   Education         7432      2008.0          NaN  \n",
      "2   Education         7432      2008.0          NaN  \n",
      "3   Education         7432      2008.0          NaN  \n",
      "4   Education         7432      2008.0          NaN  \n"
     ]
    }
   ],
   "source": [
    "energy_0 = pd.merge(left=energy_0, right=buildings, how=\"left\",\n",
    "                   left_on=\"building_id\", right_on=\"building_id\")\n",
    "print (energy_0.head())"
   ]
  },
  {
   "cell_type": "markdown",
   "metadata": {},
   "source": [
    "### Объединение потребления энергии и погоды\n",
    "Выставим индексы для объединения - timestamp, site_id"
   ]
  },
  {
   "cell_type": "code",
   "execution_count": 7,
   "metadata": {},
   "outputs": [],
   "source": [
    "energy_0.set_index([\"timestamp\", \"site_id\"], inplace=True)\n",
    "weather.set_index([\"timestamp\", \"site_id\"], inplace=True)"
   ]
  },
  {
   "cell_type": "markdown",
   "metadata": {},
   "source": [
    "Проведем объединение и сбросим индексы"
   ]
  },
  {
   "cell_type": "code",
   "execution_count": 8,
   "metadata": {},
   "outputs": [
    {
     "name": "stdout",
     "output_type": "stream",
     "text": [
      "             timestamp  site_id  building_id  meter  meter_reading  \\\n",
      "0  2016-01-01 00:00:00        0            0      0            0.0   \n",
      "1  2016-01-01 01:00:00        0            0      0            0.0   \n",
      "2  2016-01-01 02:00:00        0            0      0            0.0   \n",
      "3  2016-01-01 03:00:00        0            0      0            0.0   \n",
      "4  2016-01-01 04:00:00        0            0      0            0.0   \n",
      "\n",
      "  primary_use  square_feet  year_built  floor_count  air_temperature  \\\n",
      "0   Education         7432      2008.0          NaN             25.0   \n",
      "1   Education         7432      2008.0          NaN             24.4   \n",
      "2   Education         7432      2008.0          NaN             22.8   \n",
      "3   Education         7432      2008.0          NaN             21.1   \n",
      "4   Education         7432      2008.0          NaN             20.0   \n",
      "\n",
      "   cloud_coverage  dew_temperature  precip_depth_1_hr  sea_level_pressure  \\\n",
      "0             6.0             20.0                NaN              1019.7   \n",
      "1             NaN             21.1               -1.0              1020.2   \n",
      "2             2.0             21.1                0.0              1020.2   \n",
      "3             2.0             20.6                0.0              1020.1   \n",
      "4             2.0             20.0               -1.0              1020.0   \n",
      "\n",
      "   wind_direction  wind_speed  \n",
      "0             0.0         0.0  \n",
      "1            70.0         1.5  \n",
      "2             0.0         0.0  \n",
      "3             0.0         0.0  \n",
      "4           250.0         2.6  \n"
     ]
    }
   ],
   "source": [
    "energy_0 = pd.merge(left=energy_0, right=weather, how=\"left\",\n",
    "                   left_index=True, right_index=True)\n",
    "energy_0.reset_index(inplace=True)\n",
    "print (energy_0.head())"
   ]
  },
  {
   "cell_type": "markdown",
   "metadata": {},
   "source": [
    "### Нахождение пропущенных данных\n",
    "Посчитаем количество пропусков данных по столбцам"
   ]
  },
  {
   "cell_type": "code",
   "execution_count": 11,
   "metadata": {},
   "outputs": [
    {
     "name": "stdout",
     "output_type": "stream",
     "text": [
      "floor_count: 8784\n",
      "air_temperature: 3\n",
      "cloud_coverage: 3830\n",
      "dew_temperature: 3\n",
      "precip_depth_1_hr: 1\n",
      "sea_level_pressure: 85\n",
      "wind_direction: 250\n",
      "             timestamp  site_id  building_id  meter  meter_reading  \\\n",
      "0  2016-01-01 00:00:00        0            0      0            0.0   \n",
      "\n",
      "  primary_use  square_feet  year_built  floor_count  air_temperature  \\\n",
      "0   Education         7432      2008.0          NaN             25.0   \n",
      "\n",
      "   cloud_coverage  dew_temperature  precip_depth_1_hr  sea_level_pressure  \\\n",
      "0             6.0             20.0                NaN              1019.7   \n",
      "\n",
      "   wind_direction  wind_speed  \n",
      "0             0.0         0.0  \n",
      "<class 'pandas.core.frame.DataFrame'>\n",
      "RangeIndex: 8784 entries, 0 to 8783\n",
      "Data columns (total 16 columns):\n",
      " #   Column              Non-Null Count  Dtype  \n",
      "---  ------              --------------  -----  \n",
      " 0   timestamp           8784 non-null   object \n",
      " 1   site_id             8784 non-null   int64  \n",
      " 2   building_id         8784 non-null   int64  \n",
      " 3   meter               8784 non-null   int64  \n",
      " 4   meter_reading       8784 non-null   float64\n",
      " 5   primary_use         8784 non-null   object \n",
      " 6   square_feet         8784 non-null   int64  \n",
      " 7   year_built          8784 non-null   float64\n",
      " 8   floor_count         0 non-null      float64\n",
      " 9   air_temperature     8781 non-null   float64\n",
      " 10  cloud_coverage      4954 non-null   float64\n",
      " 11  dew_temperature     8781 non-null   float64\n",
      " 12  precip_depth_1_hr   8783 non-null   float64\n",
      " 13  sea_level_pressure  8699 non-null   float64\n",
      " 14  wind_direction      8534 non-null   float64\n",
      " 15  wind_speed          8784 non-null   float64\n",
      "dtypes: float64(10), int64(4), object(2)\n",
      "memory usage: 1.1+ MB\n",
      "None\n"
     ]
    }
   ],
   "source": [
    "for column in energy_0.columns:\n",
    "    energy_nulls = energy_0[column].isnull().sum()\n",
    "    if energy_nulls > 0:\n",
    "        print (column + \": \" + str(energy_nulls))\n",
    "print (energy_0[energy_0[\"precip_depth_1_hr\"].isnull()])\n",
    "print (energy_0.info())"
   ]
  },
  {
   "cell_type": "markdown",
   "metadata": {},
   "source": [
    "### Заполнение пропущенных данных\n",
    "* air_temperature: NaN -> 0\n",
    "* cloud_coverage: NaN -> 0\n",
    "* dew_temperature: NaN -> 0\n",
    "* precip_depth_1_hr: NaN -> 0, -1 -> 0\n",
    "* sea_level_pressure: NaN -> среднее\n",
    "* wind_direction: NaN -> среднее (роза ветров)"
   ]
  },
  {
   "cell_type": "code",
   "execution_count": 12,
   "metadata": {},
   "outputs": [
    {
     "name": "stdout",
     "output_type": "stream",
     "text": [
      "<class 'pandas.core.frame.DataFrame'>\n",
      "RangeIndex: 8784 entries, 0 to 8783\n",
      "Data columns (total 16 columns):\n",
      " #   Column              Non-Null Count  Dtype  \n",
      "---  ------              --------------  -----  \n",
      " 0   timestamp           8784 non-null   object \n",
      " 1   site_id             8784 non-null   int64  \n",
      " 2   building_id         8784 non-null   int64  \n",
      " 3   meter               8784 non-null   int64  \n",
      " 4   meter_reading       8784 non-null   float64\n",
      " 5   primary_use         8784 non-null   object \n",
      " 6   square_feet         8784 non-null   int64  \n",
      " 7   year_built          8784 non-null   float64\n",
      " 8   floor_count         0 non-null      float64\n",
      " 9   air_temperature     8784 non-null   float64\n",
      " 10  cloud_coverage      8784 non-null   float64\n",
      " 11  dew_temperature     8784 non-null   float64\n",
      " 12  precip_depth_1_hr   8784 non-null   float64\n",
      " 13  sea_level_pressure  8784 non-null   float64\n",
      " 14  wind_direction      8784 non-null   float64\n",
      " 15  wind_speed          8784 non-null   float64\n",
      "dtypes: float64(10), int64(4), object(2)\n",
      "memory usage: 1.1+ MB\n"
     ]
    }
   ],
   "source": [
    "energy_0[\"air_temperature\"].fillna(0, inplace=True)\n",
    "energy_0[\"cloud_coverage\"].fillna(0, inplace=True)\n",
    "energy_0[\"dew_temperature\"].fillna(0, inplace=True)\n",
    "energy_0[\"precip_depth_1_hr\"] = energy_0[\"precip_depth_1_hr\"].apply(lambda x:x if x>0 else 0)\n",
    "energy_0_sea_level_pressure_mean = energy_0[\"sea_level_pressure\"].mean()\n",
    "energy_0[\"sea_level_pressure\"] = energy_0[\"sea_level_pressure\"].apply(lambda x:energy_0_sea_level_pressure_mean if x!=x else x)\n",
    "energy_0_wind_direction_mean = energy_0[\"wind_direction\"].mean()\n",
    "energy_0[\"wind_direction\"] = energy_0[\"wind_direction\"].apply(lambda x:energy_0_wind_direction_mean if x!=x else x)\n",
    "energy_0.info()"
   ]
  },
  {
   "cell_type": "code",
   "execution_count": null,
   "metadata": {},
   "outputs": [],
   "source": []
  }
 ],
 "metadata": {
  "kernelspec": {
   "display_name": "venv",
   "language": "python",
   "name": "venv"
  },
  "language_info": {
   "codemirror_mode": {
    "name": "ipython",
    "version": 3
   },
   "file_extension": ".py",
   "mimetype": "text/x-python",
   "name": "python",
   "nbconvert_exporter": "python",
   "pygments_lexer": "ipython3",
   "version": "3.8.10"
  }
 },
 "nbformat": 4,
 "nbformat_minor": 4
}
